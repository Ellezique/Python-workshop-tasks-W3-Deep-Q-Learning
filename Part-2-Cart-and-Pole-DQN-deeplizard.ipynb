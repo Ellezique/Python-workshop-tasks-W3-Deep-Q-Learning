{
 "cells": [
  {
   "cell_type": "markdown",
   "source": [
    "# Cart and Pole Deep Q-Network Project\n",
    "The original tutorial for which this project is based is located at the link below. I have made several modifications throughout.\n",
    "\n",
    "https://pytorch.org/tutorials/intermediate/reinforcement_q_learning.html\n",
    "\n",
    "See also: https://www.youtube.com/watch?v=PyQNfsGUnQA&list=PLZbbT5o_s2xoWNVdDudn51XM8lOuZ_Njv&index=17\n",
    "\n",
    "1. Initialize replay memory capacity.\n",
    "2. Initialize the policy network with random weights\n",
    "3. Clone the policy network, and call it the target network.\n",
    "4. For each episode:\n",
    "    1. Initialize the starting state.\n",
    "    2. For each time step:\n",
    "        1. Select an action.\n",
    "            - Via exploration or exploitation.\n",
    "        2. Execute selected action in an emulator.\n",
    "        3. Observe reward and next state.\n",
    "        4. Store experince in replay memory. \n",
    "        5. Sample random batch from replay memory.\n",
    "        6. Preprocess states from batch.\n",
    "        7. Pass batch of preprocessed states to policy network.\n",
    "        8. Calculate loss between output Q-values and target Q-values\n",
    "            - Requires a pss to the target network for the next state\n",
    "        9. Gradient descent updates weights in th epolicy network to minimize loss.\n",
    "            - After ***x*** time steps, weights in the target network are updated to the weights in the policy network.\n"
   ],
   "metadata": {}
  },
  {
   "cell_type": "markdown",
   "source": [
    "## Import Libraries"
   ],
   "metadata": {}
  },
  {
   "cell_type": "code",
   "execution_count": 1,
   "source": [
    "# import sys"
   ],
   "outputs": [],
   "metadata": {}
  },
  {
   "cell_type": "code",
   "execution_count": 2,
   "source": [
    "# !{sys.executable} -m pip install numpy\n",
    "# !{sys.executable} -m pip install gym\n",
    "# !{sys.executable} -m pip install matplotlib\n",
    "# !{sys.executable} -m pip install torch torchvision torchaudio"
   ],
   "outputs": [],
   "metadata": {}
  },
  {
   "cell_type": "code",
   "execution_count": 3,
   "source": [
    "%matplotlib inline\n",
    "import gym\n",
    "import math\n",
    "import random\n",
    "import numpy as np\n",
    "import matplotlib\n",
    "import matplotlib.pyplot as plt\n",
    "from collections import namedtuple\n",
    "from itertools import count\n",
    "from PIL import Image\n",
    "import torch\n",
    "import torch.nn as nn\n",
    "import torch.optim as optim\n",
    "import torch.nn.functional as F\n",
    "import torchvision.transforms as T"
   ],
   "outputs": [],
   "metadata": {}
  },
  {
   "cell_type": "markdown",
   "source": [
    "## Set up display"
   ],
   "metadata": {}
  },
  {
   "cell_type": "code",
   "execution_count": 4,
   "source": [
    "is_ipython = 'inline' in matplotlib.get_backend()\n",
    "if is_ipython: from IPython import display\n",
    "\n",
    "#imports images to notebook"
   ],
   "outputs": [],
   "metadata": {}
  },
  {
   "cell_type": "markdown",
   "source": [
    "## Deep Q-Network"
   ],
   "metadata": {}
  },
  {
   "cell_type": "code",
   "execution_count": 5,
   "source": [
    "class DQN(nn.Module):       #Torch nn package. Extend .mm Module class.\n",
    "    #def __init__(self, img_height, img_width, action_num):\n",
    "    def __init__(self, img_height, img_width): #height and witdth of image input that will be passed into the model\n",
    "        super().__init__()\n",
    "         \n",
    "        #two fully connected hidden layers and an output layer. Fully connected layers are called Linear layers\n",
    "        self.fc1 = nn.Linear(in_features=img_height*img_width*3, out_features=24) #accepts dimensions of passed in image times image width times 3.  #The 3 refers to the rgb color that will be received as input. The first linear layer will have 24 outputs\n",
    "        self.fc2 = nn.Linear(in_features=24, out_features=48) #The second layer accepts 24 inputs. We specify that it has 32 outputs.\n",
    "        self.fc3 = nn.Linear(in_features=48, out_features=24)\n",
    "        self.out = nn.Linear(in_features=24, out_features=2) # Our output layer will have 32 inputs from the previous layer and will have 2 outputs (left or right agent movement options).The network will output the Q values that correspond to each possible action that the agent can take from a given state. Move left or right. \n",
    "\n",
    "    def forward(self, t): #implements a forward pass to the network\n",
    "        t = t.flatten(start_dim=1) #tensor t must be flattened before it can be passed to the fully connected layer\n",
    "        t = F.relu(self.fc1(t)) #t will then be passed to the fully connected layer and then have relu applied to it.\n",
    "        t = F.relu(self.fc2(t)) # that t will then be passed to this layer and then be passed ot the output layer\n",
    "        t = F.relu(self.fc3(t))\n",
    "        t = self.out(t) #this output layer is then what is returned by the forward function.\n",
    "        return t"
   ],
   "outputs": [],
   "metadata": {}
  },
  {
   "cell_type": "markdown",
   "source": [
    "## Experience class"
   ],
   "metadata": {}
  },
  {
   "cell_type": "code",
   "execution_count": 6,
   "source": [
    "#Create instances of experience objects that will get stored in and sampled from replay memory later. \n",
    "# namedtuple returns a subclass 'Experience' used to create tuple object with state, action, next_state and reward (which make up an individual experience)\n",
    "Experience = namedtuple( \n",
    "    'Experience',\n",
    "    ('state', 'action', 'next_state', 'reward')\n",
    ")"
   ],
   "outputs": [],
   "metadata": {}
  },
  {
   "cell_type": "code",
   "execution_count": 7,
   "source": [
    "e = Experience({},[],\"a\",\"v\")  #state, action, next_state, reward of e\n",
    "e"
   ],
   "outputs": [
    {
     "output_type": "execute_result",
     "data": {
      "text/plain": [
       "Experience(state={}, action=[], next_state='a', reward='v')"
      ]
     },
     "metadata": {},
     "execution_count": 7
    }
   ],
   "metadata": {}
  },
  {
   "cell_type": "markdown",
   "source": [
    "## Replay Memory"
   ],
   "metadata": {}
  },
  {
   "cell_type": "code",
   "execution_count": 8,
   "source": [
    "#Store experiences. Replay Memory has some set capacity.\n",
    "class ReplayMemory():\n",
    "    def __init__(self, capacity):\n",
    "        self.capacity = capacity\n",
    "        self.memory = [] #the structure that holds the stored experiences\n",
    "        self.push_count = 0 #will be used to track how many experiences added to memory\n",
    "        \n",
    "    def push(self, experience): #store experiences in replay memory as they occur. \n",
    "        if len(self.memory) < self.capacity: #Before adding to memory, check that there is enough capacity then append to memory. \n",
    "            self.memory.append(experience)\n",
    "        else: #if memory is full, we push new experiences to the front of memory, overriding the oldest experiences first\n",
    "            self.memory[self.push_count % self.capacity] = experience\n",
    "        self.push_count += 1 #update experience counter\n",
    "\n",
    "    def sample(self, batch_size):  #sample experiences from replay memory. Sampled experiences are used to train DQN\n",
    "        return random.sample(self.memory, batch_size) #return random number of experiences to sample\n",
    "    \n",
    "    def can_provide_sample(self, batch_size): #returns boolean to tell us whether we can sample from memory. The sample must be equal to the batch size used to train the network\n",
    "        return len(self.memory) >= batch_size"
   ],
   "outputs": [],
   "metadata": {}
  },
  {
   "cell_type": "markdown",
   "source": [
    "## Epsilon Greedy Strategy"
   ],
   "metadata": {}
  },
  {
   "cell_type": "code",
   "execution_count": 9,
   "source": [
    "#Exploration (random exploration of environment) vs exploitation (agent exploits what it learnt about the environemtn to take best known action from given state). The way the agent selects actions.\n",
    "#Epsilon initially set to 1 to guarantee exploration of environemnt at start. Epsilon decays so agent explores less as it learns more about the environment.\n",
    "class EpsilonGreedyStrategy():\n",
    "    def __init__(self, start, end, decay): #start, end and decay values of epsilon.\n",
    "        self.start = start\n",
    "        self.end = end\n",
    "        self.decay = decay\n",
    "    \n",
    "    def get_exploration_rate(self, current_step): #current step of agent passed in to return the calculated exploration rate. The agent uses this exploration rate to determine how it should select its actoins by either exploring or exploiting its invironment.\n",
    "        return self.end + (self.start - self.end) * \\\n",
    "            math.exp(-1. * current_step * self.decay)"
   ],
   "outputs": [],
   "metadata": {}
  },
  {
   "cell_type": "markdown",
   "source": [
    "## Reinforcement Learning Agent"
   ],
   "metadata": {}
  },
  {
   "cell_type": "code",
   "execution_count": 10,
   "source": [
    "class Agent():\n",
    "    def __init__(self, strategy, num_actions, device): #Epsilon greed strategy must exist to pass in. Number of available actions are the possible actions an agent can take from a given state (2 for agent moving left or right).\n",
    "        self.current_step = 0 # the agent's current step number in the environment\n",
    "        self.strategy = strategy\n",
    "        self.num_actions = num_actions\n",
    "        self.device = device\n",
    "\n",
    "    def select_action(self, state, policy_net):#policy net is the name given to our Deep Q Network we trained to learn the optimal policy\n",
    "        rate = strategy.get_exploration_rate(self.current_step) #the rate is equal to the rate returned by the epsilon greedy strategy that was passed in when creating agent.\n",
    "        self.current_step += 1 #increment agent step by 1\n",
    "\n",
    "        if rate > random.random(): #then check to see if the exploration rate is greater than a random number between 0 and 1 corresponding to the left or right movement\n",
    "            action = random.randrange(self.num_actions)\n",
    "            return torch.tensor([action]).to(self.device) # explore      \n",
    "        else: #if exploration rate is not greater than random number, then exploit environment by selecting the action that corresponds to the highest Q value output fromour policy network for the given state\n",
    "            with torch.no_grad(): #turn off gradient tracking since we are currently using th emodel for inference and not for training.\n",
    "                return policy_net(state).argmax(dim=1).to(self.device) # exploit"
   ],
   "outputs": [],
   "metadata": {}
  },
  {
   "cell_type": "markdown",
   "source": [
    "## Environment Manager"
   ],
   "metadata": {}
  },
  {
   "cell_type": "code",
   "execution_count": 11,
   "source": [
    "class CartPoleEnvManager():\n",
    "    def __init__(self, device):\n",
    "        self.device = device\n",
    "        self.env = gym.make('CartPole-v0').unwrapped\n",
    "        self.env.reset()\n",
    "        self.current_screen = None\n",
    "        self.done = False\n",
    "    \n",
    "    def reset(self):\n",
    "        self.env.reset()\n",
    "        self.current_screen = None\n",
    "        \n",
    "    def close(self):\n",
    "        self.env.close()\n",
    "        \n",
    "    def render(self, mode='human'):\n",
    "        return self.env.render(mode)\n",
    "        \n",
    "    def num_actions_available(self):\n",
    "        return self.env.action_space.n\n",
    "        \n",
    "    def take_action(self, action):        \n",
    "        _, reward, self.done, _ = self.env.step(action.item())\n",
    "        return torch.tensor([reward], device=self.device)\n",
    "    \n",
    "    def just_starting(self):\n",
    "        return self.current_screen is None\n",
    "    \n",
    "    def get_state(self):\n",
    "        if self.just_starting() or self.done:\n",
    "            self.current_screen = self.get_processed_screen()\n",
    "            black_screen = torch.zeros_like(self.current_screen)\n",
    "            return black_screen\n",
    "        else:\n",
    "            s1 = self.current_screen\n",
    "            s2 = self.get_processed_screen()\n",
    "            self.current_screen = s2\n",
    "            return s2 - s1\n",
    "    \n",
    "    def get_screen_height(self):\n",
    "        screen = self.get_processed_screen()\n",
    "        return screen.shape[2]\n",
    "    \n",
    "    def get_screen_width(self):\n",
    "        screen = self.get_processed_screen()\n",
    "        return screen.shape[3]\n",
    "       \n",
    "    def get_processed_screen(self):\n",
    "        screen = self.render('rgb_array').transpose((2, 0, 1)) # PyTorch expects CHW\n",
    "        screen = self.crop_screen(screen)\n",
    "        return self.transform_screen_data(screen)\n",
    "    \n",
    "    def crop_screen(self, screen):\n",
    "        screen_height = screen.shape[1]\n",
    "        \n",
    "        # Strip off top and bottom\n",
    "        top = int(screen_height * 0.4)\n",
    "        bottom = int(screen_height * 0.8)\n",
    "        screen = screen[:, top:bottom, :]\n",
    "        return screen\n",
    "    \n",
    "    def transform_screen_data(self, screen):       \n",
    "        # Convert to float, rescale, convert to tensor\n",
    "        screen = np.ascontiguousarray(screen, dtype=np.float32) / 255\n",
    "        screen = torch.from_numpy(screen)\n",
    "        \n",
    "        # Use torchvision package to compose image transforms\n",
    "        resize = T.Compose([\n",
    "            T.ToPILImage()\n",
    "            ,T.Resize((40,90))\n",
    "            ,T.Grayscale(num_output_channels=3)\n",
    "            ,T.ToTensor()\n",
    "        ])\n",
    "        \n",
    "        return resize(screen).unsqueeze(0).to(self.device) # add a batch dimension (BCHW)"
   ],
   "outputs": [],
   "metadata": {}
  },
  {
   "cell_type": "markdown",
   "source": [
    "## Example of non-processed screen"
   ],
   "metadata": {}
  },
  {
   "cell_type": "code",
   "execution_count": 12,
   "source": [
    "device = torch.device(\"cuda\" if torch.cuda.is_available() else \"cpu\")\n",
    "em = CartPoleEnvManager(device)\n",
    "em.reset()\n",
    "screen = em.render('rgb_array')\n",
    "\n",
    "plt.figure()\n",
    "plt.imshow(screen)\n",
    "plt.title('Non-processed screen example')\n",
    "plt.show()"
   ],
   "outputs": [
    {
     "output_type": "display_data",
     "data": {
      "image/png": "[encoded data removed]",
      "text/plain": [
       "<Figure size 432x288 with 1 Axes>"
      ]
     },
     "metadata": {
      "needs_background": "light"
     }
    }
   ],
   "metadata": {}
  },
  {
   "cell_type": "markdown",
   "source": [
    "## Example of processed screen"
   ],
   "metadata": {}
  },
  {
   "cell_type": "code",
   "execution_count": 13,
   "source": [
    "screen = em.get_processed_screen()\n",
    "\n",
    "plt.figure()\n",
    "plt.imshow(screen.squeeze(0).permute(1, 2, 0).cpu(), interpolation='none')\n",
    "plt.title('Processed screen example')\n",
    "plt.show()"
   ],
   "outputs": [
    {
     "output_type": "display_data",
     "data": {
      "image/png": "[encoded data removed]",
      "text/plain": [
       "<Figure size 432x288 with 1 Axes>"
      ]
     },
     "metadata": {
      "needs_background": "light"
     }
    }
   ],
   "metadata": {
    "scrolled": true
   }
  },
  {
   "cell_type": "markdown",
   "source": [
    "## Example of starting state"
   ],
   "metadata": {}
  },
  {
   "cell_type": "code",
   "execution_count": 14,
   "source": [
    "screen = em.get_state()\n",
    "\n",
    "plt.figure()\n",
    "plt.imshow(screen.squeeze(0).permute(1, 2, 0).cpu(), interpolation='none')\n",
    "plt.title('Starting state example')\n",
    "plt.show()"
   ],
   "outputs": [
    {
     "output_type": "display_data",
     "data": {
      "image/png": "[encoded data removed]",
      "text/plain": [
       "<Figure size 432x288 with 1 Axes>"
      ]
     },
     "metadata": {
      "needs_background": "light"
     }
    }
   ],
   "metadata": {}
  },
  {
   "cell_type": "markdown",
   "source": [
    "## Example of non-starting state"
   ],
   "metadata": {}
  },
  {
   "cell_type": "code",
   "execution_count": 15,
   "source": [
    "for i in range(5):\n",
    "    em.take_action(torch.tensor([1]))\n",
    "screen = em.get_state()\n",
    "\n",
    "plt.figure()\n",
    "plt.imshow(screen.squeeze(0).permute(1, 2, 0).cpu(), interpolation='none')\n",
    "plt.title('Non-starting state example')\n",
    "plt.show()"
   ],
   "outputs": [
    {
     "output_type": "stream",
     "name": "stderr",
     "text": [
      "Clipping input data to the valid range for imshow with RGB data ([0..1] for floats or [0..255] for integers).\n"
     ]
    },
    {
     "output_type": "display_data",
     "data": {
      "image/png": "[encoded data removed]",
      "text/plain": [
       "<Figure size 432x288 with 1 Axes>"
      ]
     },
     "metadata": {
      "needs_background": "light"
     }
    }
   ],
   "metadata": {}
  },
  {
   "cell_type": "markdown",
   "source": [
    "## Example of end state"
   ],
   "metadata": {}
  },
  {
   "cell_type": "code",
   "execution_count": 16,
   "source": [
    "em.done = True\n",
    "screen = em.get_state()\n",
    "\n",
    "plt.figure()\n",
    "plt.imshow(screen.squeeze(0).permute(1, 2, 0).cpu(), interpolation='none')\n",
    "plt.title('Ending state example')\n",
    "plt.show()\n",
    "em.close()"
   ],
   "outputs": [
    {
     "output_type": "display_data",
     "data": {
      "image/png": "[encoded data removed]",
      "text/plain": [
       "<Figure size 432x288 with 1 Axes>"
      ]
     },
     "metadata": {
      "needs_background": "light"
     }
    }
   ],
   "metadata": {}
  },
  {
   "cell_type": "markdown",
   "source": [
    "## Utility functions"
   ],
   "metadata": {}
  },
  {
   "cell_type": "markdown",
   "source": [
    "### Plotting"
   ],
   "metadata": {}
  },
  {
   "cell_type": "code",
   "execution_count": 17,
   "source": [
    "def plot(values, moving_avg_period):\n",
    "    plt.figure(2)\n",
    "    plt.clf()        \n",
    "    plt.title('Training...')\n",
    "    plt.xlabel('Episode')\n",
    "    plt.ylabel('Duration')\n",
    "    plt.plot(values)\n",
    "    \n",
    "    moving_avg = get_moving_average(moving_avg_period, values)\n",
    "    plt.plot(moving_avg)    \n",
    "    plt.pause(0.001)\n",
    "    print(\"Episode\", len(values), \"\\n\", \\\n",
    "          moving_avg_period, \"episode moving avg:\", moving_avg[-1])\n",
    "    if is_ipython: display.clear_output(wait=True)\n",
    "\n",
    "def get_moving_average(period, values):\n",
    "    values = torch.tensor(values, dtype=torch.float)\n",
    "    if len(values) >= period:\n",
    "        moving_avg = values.unfold(dimension=0, size=period, step=1) \\\n",
    "            .mean(dim=1).flatten(start_dim=0)\n",
    "        moving_avg = torch.cat((torch.zeros(period-1), moving_avg))\n",
    "        return moving_avg.numpy()\n",
    "    else:\n",
    "        moving_avg = torch.zeros(len(values))\n",
    "        return moving_avg.numpy()"
   ],
   "outputs": [],
   "metadata": {}
  },
  {
   "cell_type": "code",
   "execution_count": 18,
   "source": [
    "plot(np.random.rand(300), 100)"
   ],
   "outputs": [
    {
     "output_type": "display_data",
     "data": {
      "image/png": "[encoded data removed]",
      "text/plain": [
       "<Figure size 432x288 with 1 Axes>"
      ]
     },
     "metadata": {
      "needs_background": "light"
     }
    },
    {
     "output_type": "stream",
     "name": "stdout",
     "text": [
      "Episode 300 \n",
      " 100 episode moving avg: 0.4755646\n"
     ]
    }
   ],
   "metadata": {
    "scrolled": true
   }
  },
  {
   "cell_type": "markdown",
   "source": [
    "### Tensor processing"
   ],
   "metadata": {}
  },
  {
   "cell_type": "code",
   "execution_count": 19,
   "source": [
    "def extract_tensors(experiences):\n",
    "    # Convert batch of Experiences to Experience of batches\n",
    "    batch = Experience(*zip(*experiences))\n",
    "\n",
    "    t1 = torch.cat(batch.state)\n",
    "    t2 = torch.cat(batch.action)\n",
    "    t3 = torch.cat(batch.reward)\n",
    "    t4 = torch.cat(batch.next_state)\n",
    "\n",
    "    return (t1,t2,t3,t4)"
   ],
   "outputs": [],
   "metadata": {}
  },
  {
   "cell_type": "markdown",
   "source": [
    "#### Example of Experience(\\*zip(\\*experiences)) used above\n",
    "See https://stackoverflow.com/a/19343/3343043 for further explanation."
   ],
   "metadata": {}
  },
  {
   "cell_type": "code",
   "execution_count": 20,
   "source": [
    "e1 = Experience(1,1,1,1)\n",
    "e2 = Experience(2,2,2,2)\n",
    "e3 = Experience(3,3,3,3)\n",
    "\n",
    "experiences = [e1,e2,e3]\n",
    "experiences"
   ],
   "outputs": [
    {
     "output_type": "execute_result",
     "data": {
      "text/plain": [
       "[Experience(state=1, action=1, next_state=1, reward=1),\n",
       " Experience(state=2, action=2, next_state=2, reward=2),\n",
       " Experience(state=3, action=3, next_state=3, reward=3)]"
      ]
     },
     "metadata": {},
     "execution_count": 20
    }
   ],
   "metadata": {}
  },
  {
   "cell_type": "code",
   "execution_count": 21,
   "source": [
    "batch = Experience(*zip(*experiences))\n",
    "batch"
   ],
   "outputs": [
    {
     "output_type": "execute_result",
     "data": {
      "text/plain": [
       "Experience(state=(1, 2, 3), action=(1, 2, 3), next_state=(1, 2, 3), reward=(1, 2, 3))"
      ]
     },
     "metadata": {},
     "execution_count": 21
    }
   ],
   "metadata": {}
  },
  {
   "cell_type": "markdown",
   "source": [
    "### Q-Value Calculator"
   ],
   "metadata": {}
  },
  {
   "cell_type": "code",
   "execution_count": 22,
   "source": [
    "class QValues():\n",
    "    device = torch.device(\"cuda\" if torch.cuda.is_available() else \"cpu\")\n",
    "    \n",
    "    @staticmethod\n",
    "    def get_current(policy_net, states, actions):\n",
    "        return policy_net(states).gather(dim=1, index=actions.unsqueeze(-1))\n",
    "    \n",
    "    @staticmethod        \n",
    "    def get_next(target_net, next_states):                \n",
    "        final_state_locations = next_states.flatten(start_dim=1) \\\n",
    "            .max(dim=1)[0].eq(0).type(torch.bool)\n",
    "        non_final_state_locations = (final_state_locations == False)\n",
    "        non_final_states = next_states[non_final_state_locations]\n",
    "        batch_size = next_states.shape[0]\n",
    "        values = torch.zeros(batch_size).to(QValues.device)\n",
    "        values[non_final_state_locations] = target_net(non_final_states).max(dim=1)[0].detach()\n",
    "        return values"
   ],
   "outputs": [],
   "metadata": {}
  },
  {
   "cell_type": "markdown",
   "source": [
    "## Main Program"
   ],
   "metadata": {}
  },
  {
   "cell_type": "code",
   "execution_count": 23,
   "source": [
    "device = torch.device(\"cuda\" if torch.cuda.is_available() else \"cpu\")\n",
    "print(\"Using device\", device.type, device)"
   ],
   "outputs": [
    {
     "output_type": "stream",
     "name": "stdout",
     "text": [
      "Using device cpu cpu\n"
     ]
    }
   ],
   "metadata": {}
  },
  {
   "cell_type": "code",
   "execution_count": 24,
   "source": [
    "batch_size = 256 \n",
    "gamma = 0.999 \n",
    "eps_start = 1  #exploration rate at start\n",
    "eps_end = 0\n",
    "eps_decay = 0.1\n",
    "target_update = 10 \n",
    "memory_size = 1000000\n",
    "lr = 0.001 #0.001  #learning rate. smaller learning raters require more training. But if too high, causes model to converge to a suboptimal solution and if too small the process gets stuck.\n",
    "num_episodes = 400 # run for more episodes for better results\n",
    "\n",
    "\n",
    "em = CartPoleEnvManager(device)\n",
    "strategy = EpsilonGreedyStrategy(eps_start, eps_end, eps_decay)\n",
    "agent = Agent(strategy, em.num_actions_available(), device)\n",
    "memory = ReplayMemory(memory_size)\n",
    "\n",
    "policy_net = DQN(em.get_screen_height(), em.get_screen_width()).to(device)\n",
    "target_net = DQN(em.get_screen_height(), em.get_screen_width()).to(device)\n",
    "target_net.load_state_dict(policy_net.state_dict())\n",
    "target_net.eval()\n",
    "optimizer = optim.Adam(params=policy_net.parameters(), lr=lr)\n",
    "\n",
    "episode_durations = []\n",
    "for episode in range(num_episodes):\n",
    "    em.reset()\n",
    "    state = em.get_state()\n",
    "    \n",
    "    for timestep in count():\n",
    "        action = agent.select_action(state, policy_net)\n",
    "        reward = em.take_action(action)\n",
    "        next_state = em.get_state()\n",
    "        memory.push(Experience(state, action, next_state, reward))\n",
    "        state = next_state\n",
    "\n",
    "        if memory.can_provide_sample(batch_size):\n",
    "            experiences = memory.sample(batch_size)\n",
    "            states, actions, rewards, next_states = extract_tensors(experiences)\n",
    "            \n",
    "            current_q_values = QValues.get_current(policy_net, states, actions)\n",
    "            next_q_values = QValues.get_next(target_net, next_states)\n",
    "            target_q_values = (next_q_values * gamma) + rewards\n",
    "\n",
    "            loss = F.mse_loss(current_q_values, target_q_values.unsqueeze(1))\n",
    "            optimizer.zero_grad()\n",
    "            loss.backward()\n",
    "            optimizer.step()\n",
    "            \n",
    "        if em.done:\n",
    "            episode_durations.append(timestep)\n",
    "            plot(episode_durations, 100)\n",
    "            break\n",
    "\n",
    "    if episode % target_update == 0:\n",
    "        target_net.load_state_dict(policy_net.state_dict())\n",
    "        \n",
    "em.close()"
   ],
   "outputs": [
    {
     "output_type": "display_data",
     "data": {
      "image/png": "[encoded data removed]",
      "text/plain": [
       "<Figure size 432x288 with 1 Axes>"
      ]
     },
     "metadata": {
      "needs_background": "light"
     }
    },
    {
     "output_type": "stream",
     "name": "stdout",
     "text": [
      "Episode 176 \n",
      " 100 episode moving avg: 23.93\n"
     ]
    }
   ],
   "metadata": {
    "scrolled": false
   }
  },
  {
   "cell_type": "code",
   "execution_count": null,
   "source": [
    "assert get_moving_average(100, episode_durations)[-1] > 15"
   ],
   "outputs": [
    {
     "output_type": "error",
     "ename": "Error",
     "evalue": "Session cannot generate requests",
     "traceback": [
      "Error: Session cannot generate requests",
      "at w.executeCodeCell (/root/.vscode-server/extensions/ms-toolsai.jupyter-2021.8.2031190714/out/client/extension.js:52:301310)",
      "at w.execute (/root/.vscode-server/extensions/ms-toolsai.jupyter-2021.8.2031190714/out/client/extension.js:52:300703)",
      "at w.start (/root/.vscode-server/extensions/ms-toolsai.jupyter-2021.8.2031190714/out/client/extension.js:52:296367)",
      "at t.CellExecutionQueue.executeQueuedCells (/root/.vscode-server/extensions/ms-toolsai.jupyter-2021.8.2031190714/out/client/extension.js:52:311160)",
      "at t.CellExecutionQueue.start (/root/.vscode-server/extensions/ms-toolsai.jupyter-2021.8.2031190714/out/client/extension.js:52:310700)"
     ]
    }
   ],
   "metadata": {}
  },
  {
   "cell_type": "markdown",
   "source": [
    "REPEAT TESTS. EARLY ISSUES stopped testing about halfway thorugh the episodes so worth running tests for full 300 episodes. Error: Session cannot generate requests\n",
    " \n",
    "If issue persists:\n",
    "1. Run script with active user session. \n",
    "\n",
    "#### SAMPLE 1\n",
    "CHANGES\n",
    "   self.fc1 = nn.Linear(in_features=img_height*img_width*3, out_features=24)   \n",
    "        self.fc2 = nn.Linear(in_features=24, out_features=32)\n",
    "        self.out = nn.Linear(in_features=32, out_features=2)  \n",
    "\n",
    "batch_size = 256\n",
    "gamma = 0.999\n",
    "eps_start = 0.99 #1\n",
    "eps_end = 0.05  #0.01\n",
    "eps_decay = 200 #0.001\n",
    "target_update = 10\n",
    "memory_size = 100000\n",
    "lr = 0.001\n",
    "num_episodes = 300 # run for more episodes for better results\n",
    "\n",
    "RESULTS: ***Episode 231 ***\n",
    " 100 episode moving avg: 38.63\n",
    "\n",
    "#### SAMPLE 2 - add middle layer\n",
    "\n",
    "self.fc1 = nn.Linear(in_features=img_height*img_width*3, out_features=24) #accepts dimensions of passed in image times image width times 3.  #The 3 refers to the rgb color that will be received as input. The first linear layer will have 24 outputs\n",
    "        self.fc2 = nn.Linear(in_features=24, out_features=32) #The second layer accepts 24 inputs. We specify that it has 32 outputs.\n",
    "        self.fc3 = nn.Linear(in_features=32, out_features=64)\n",
    "        self.out = nn.Linear(in_features=64, out_features=2)\n",
    "\n",
    "batch_size = 256\n",
    "gamma = 0.999\n",
    "eps_start = 0.99 #1\n",
    "eps_end = 0.05  #0.01\n",
    "eps_decay = 200 #0.001\n",
    "target_update = 10\n",
    "memory_size = 100000\n",
    "lr = 0.001\n",
    "num_episodes = 300 # run for more episodes for better results\n",
    "\n",
    "RESULTS: ***Episode 135 ***\n",
    " 100 episode moving avg: 37.63\n",
    "\n",
    "\n",
    "#### SAMPLE 3 - change eps decay rate\n",
    "batch_size = 256 \n",
    "gamma = 0.999 \n",
    "eps_start = 0.99 #1   #exploration rate at start\n",
    "eps_end = 0.01\n",
    "eps_decay = 0.001\n",
    "target_update = 10 \n",
    "memory_size = 1000000\n",
    "lr = 0.001  #learning rate\n",
    "num_episodes = 300 # run for more episodes for better results \n",
    "\n",
    "RESULTS: ***Episode  132 ***\n",
    " 100 episode moving avg: 26.23\n",
    "\n",
    "#### SAMPLE 4 - change eps decay rate to 0.99\n",
    "batch_size = 256 \n",
    "gamma = 0.999 \n",
    "eps_start = 1 #1   #exploration rate at start\n",
    "eps_end = 0.01\n",
    "eps_decay = 0.99\n",
    "target_update = 10 \n",
    "memory_size = 1000000\n",
    "lr = 0.001  #learning rate\n",
    "num_episodes = 300 # run for more episodes for better results\n",
    "\n",
    "RESULTS: ***Episode 183 ***\n",
    " 100 episode moving avg: 39.81\n",
    " \n",
    "-------------------------------------------------------------\n",
    "\n",
    "#### SAMPLE 5 - change learning rate to 0.99\n",
    "When learning rate is 0.001 the graph flatlines. Results for 0.99 learning rate:\n",
    "\n",
    "batch_size = 256 \n",
    "gamma = 0.999 \n",
    "eps_start = 1 #1   #exploration rate at start\n",
    "eps_end = 0.01\n",
    "eps_decay = 0.99\n",
    "target_update = 10 \n",
    "memory_size = 1000000\n",
    "lr = 0.99  #0.001  #learning rate\n",
    "num_episodes = 300\n",
    "\n",
    "Random chart: Episode 300 \n",
    " 100 episode moving avg: 0.54609036\n",
    "\n",
    "Trained chart:Episode 277 \n",
    " 100 episode moving avg: 8.4\n",
    "\n",
    "#### SAMPLE 6 - increase target update to 100\n",
    "\n",
    "#### SAMPLE 7\n",
    "\n",
    "batch_size = 256 \n",
    "gamma = 0.999 \n",
    "eps_start = 1  #exploration rate at start\n",
    "eps_end = 0.01\n",
    "eps_decay = 0.1\n",
    "target_update = 100 \n",
    "memory_size = 1000000\n",
    "lr = 0.01  #0.001  #learning rate\n",
    "num_episodes = 300\n",
    "\n",
    "        self.fc1 = nn.Linear(in_features=img_height*img_width*3, out_features=24)\n",
    "        self.fc2 = nn.Linear(in_features=24, out_features=48) #The second layer accepts 24 inputs. We specify that it has 32 outputs.\n",
    "        self.fc3 = nn.Linear(in_features=48, out_features=96)\n",
    "        self.fc4 = nn.Linear(in_features=96, out_features=48)\n",
    "        self.fc5 = nn.Linear(in_features=48, out_features=24)\n",
    "        self.out = nn.Linear(in_features=24, out_features=2) \n",
    "\n",
    "Random chart: Random chart: Episode 300 \n",
    " 100 episode moving avg: 0.499....\n",
    "\n",
    "Trained char: by 150 episodes, graph turned downwards.Results at that point were worse than other tests. Test cancelled.\n",
    "\n",
    "# SAMPLE 8 \n",
    "batch_size = 256 \n",
    "gamma = 0.999 \n",
    "eps_start = 1  #exploration rate at start\n",
    "eps_end = 0\n",
    "eps_decay = 0.1\n",
    "target_update = 100 \n",
    "memory_size = 100000 #decreased memory size\n",
    "lr = 0.1 #0.001  #learning rate. smaller learning raters require more training. But if too high, causes model to converge to a suboptimal solution and if too small the process gets stuck.\n",
    "num_episodes = 300\n",
    "\n",
    "self.fc1 = nn.Linear(in_features=img_height*img_width*3, out_features=24) #accepts dimensions of passed in image times image width times 3.  #The 3 refers to the rgb color that will be received as input. The first linear layer will have 24 outputs\n",
    "        self.fc2 = nn.Linear(in_features=24, out_features=48) #The second layer accepts 24 inputs. We specify that it has 32 outputs.\n",
    "        self.fc3 = nn.Linear(in_features=48, out_features=24)\n",
    "        self.out = nn.Linear(in_features=24, out_features=2)\n",
    "\n",
    "Random chart: 0.511\n",
    "\n",
    "Trained chart: 19.02\n",
    "\n",
    "# SAMPLE 9 - increase memory and episodes\n",
    "\n",
    "batch_size = 256 \n",
    "gamma = 0.999 \n",
    "eps_start = 1  #exploration rate at start\n",
    "eps_end = 0\n",
    "eps_decay = 0.1\n",
    "target_update = 100 \n",
    "memory_size = 1000000\n",
    "lr = 0.01 #0.001  #learning rate. smaller learning raters require more training. But if too high, causes model to converge to a suboptimal solution and if too small the process gets stuck.\n",
    "num_episodes = 40\n",
    "\n",
    "episode 346. av 19.\n",
    "\n",
    "# SAMPLE 10\n",
    "\n",
    "batch_size = 256 \n",
    "gamma = 0.999 \n",
    "eps_start = 1  #exploration rate at start\n",
    "eps_end = 0\n",
    "eps_decay = 0.1\n",
    "target_update = 10 \n",
    "memory_size = 1000000\n",
    "lr = 0.001 #0.001  #learning rate. smaller learning raters require more training. But if too high, causes model to converge to a suboptimal solution and if too small the process gets stuck.\n",
    "num_episodes = 400\n",
    "\n",
    "Got to episode 176 with avg 23.93"
   ],
   "metadata": {}
  }
 ],
 "metadata": {
  "anaconda-cloud": {},
  "interpreter": {
   "hash": "916dbcbb3f70747c44a77c7bcd40155683ae19c65e1c03b4aa3499c5328201f1"
  },
  "kernelspec": {
   "name": "python3",
   "display_name": "Python 3.9.2 64-bit"
  },
  "language_info": {
   "codemirror_mode": {
    "name": "ipython",
    "version": 3
   },
   "file_extension": ".py",
   "mimetype": "text/x-python",
   "name": "python",
   "nbconvert_exporter": "python",
   "pygments_lexer": "ipython3",
   "version": "3.9.2"
  }
 },
 "nbformat": 4,
 "nbformat_minor": 2
}